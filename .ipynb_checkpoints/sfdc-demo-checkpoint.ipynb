{
 "cells": [
  {
   "cell_type": "markdown",
   "metadata": {},
   "source": [
    "## <img src=\"https://spring.io/images/spring-logo-9146a4d3298760c2e7e49595184e1975.svg\" height=\"32px\" width=\"100px\"> Cloud Config"
   ]
  },
  {
   "cell_type": "markdown",
   "metadata": {},
   "source": [
    "## Client-side secure configuration flow"
   ]
  },
  {
   "cell_type": "code",
   "execution_count": null,
   "metadata": {},
   "outputs": [],
   "source": [
    "!cf ssh accountservice -c 'echo $VCAP_SERVICES | jq -r .'"
   ]
  },
  {
   "cell_type": "code",
   "execution_count": null,
   "metadata": {},
   "outputs": [],
   "source": [
    "!cf ssh accountservice -c 'echo $VCAP_SERVICES | jq -r .\\\"p.config-server\\\"[].\\\"credentials\\\".\\\"credhub-ref\\\"'"
   ]
  },
  {
   "cell_type": "code",
   "execution_count": null,
   "metadata": {},
   "outputs": [],
   "source": [
    "!cf ssh accountservice -c 'echo $VCAP_PLATFORM_OPTIONS | jq -r .\\\"credhub-uri\\\"'"
   ]
  },
  {
   "cell_type": "code",
   "execution_count": null,
   "metadata": {},
   "outputs": [],
   "source": [
    "!cf ssh accountservice -c 'curl \"https://credhub.service.cf.internal:8844/api/v1/data?name=/c/p.spring-cloud-services-scs-service-broker/e9ca123d-c312-4f57-88a4-aef09e887f83/1613d724-5476-42a1-aceb-842621500425/credentials-json&current=true\"'"
   ]
  },
  {
   "cell_type": "code",
   "execution_count": null,
   "metadata": {},
   "outputs": [],
   "source": [
    "!cf ssh accountservice -c 'curl \"https://credhub.service.cf.internal:8844/api/v1/data?name=/c/p.spring-cloud-services-scs-service-broker/e9ca123d-c312-4f57-88a4-aef09e887f83/1613d724-5476-42a1-aceb-842621500425/credentials-json&current=true\" --cert $CF_INSTANCE_CERT --key $CF_INSTANCE_KEY | jq -r .data[].value'"
   ]
  },
  {
   "cell_type": "code",
   "execution_count": null,
   "metadata": {},
   "outputs": [],
   "source": [
    "!cf ssh authservice -c 'curl \"https://credhub.service.cf.internal:8844/api/v1/data?name=/c/p.spring-cloud-services-scs-service-broker/e9ca123d-c312-4f57-88a4-aef09e887f83/1613d724-5476-42a1-aceb-842621500425/credentials-json&current=true\" --cert $CF_INSTANCE_CERT --key $CF_INSTANCE_KEY'"
   ]
  },
  {
   "cell_type": "code",
   "execution_count": null,
   "metadata": {},
   "outputs": [],
   "source": [
    "!cf ssh accountservice -c 'openssl x509 -in $CF_INSTANCE_CERT -text -noout'"
   ]
  },
  {
   "cell_type": "code",
   "execution_count": null,
   "metadata": {},
   "outputs": [],
   "source": [
    "!cf ssh accountservice -c 'TOKEN=$(curl https://uaa.sys.aws.pcfapps.org:443/oauth/token -u config-client-1613d724-5476-42a1-aceb-842621500425:ad2ql6aemag64 -d grant_type=client_credentials | jq -r .access_token) && curl -H \"Authorization: bearer $TOKEN\" -sS https://config-server-aca1a51a-6aec-4198-8bea-456c12760039.cfapps.aws.pcfapps.org/accountservice/cloud 2>/dev/null > accountservice.json && jq -r . accountservice.json'"
   ]
  }
 ],
 "metadata": {
  "kernelspec": {
   "display_name": "Python 3",
   "language": "python",
   "name": "python3"
  },
  "language_info": {
   "codemirror_mode": {
    "name": "ipython",
    "version": 3
   },
   "file_extension": ".py",
   "mimetype": "text/x-python",
   "name": "python",
   "nbconvert_exporter": "python",
   "pygments_lexer": "ipython3",
   "version": "3.7.7"
  }
 },
 "nbformat": 4,
 "nbformat_minor": 4
}
